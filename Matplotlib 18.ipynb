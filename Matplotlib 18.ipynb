{
 "cells": [
  {
   "cell_type": "markdown",
   "id": "a290b80c",
   "metadata": {},
   "source": [
    "# Pengaturan Figure Layouts dengan GridSpec"
   ]
  },
  {
   "cell_type": "markdown",
   "id": "a63d8a08",
   "metadata": {},
   "source": [
    "# Import Modules"
   ]
  },
  {
   "cell_type": "code",
   "execution_count": 1,
   "id": "515379a2",
   "metadata": {},
   "outputs": [
    {
     "name": "stdout",
     "output_type": "stream",
     "text": [
      "Using matplotlib backend: Qt5Agg\n"
     ]
    }
   ],
   "source": [
    "%matplotlib"
   ]
  },
  {
   "cell_type": "code",
   "execution_count": 2,
   "id": "c8f6a9e7",
   "metadata": {},
   "outputs": [
    {
     "name": "stdout",
     "output_type": "stream",
     "text": [
      "3.4.3\n",
      "1.20.3\n"
     ]
    }
   ],
   "source": [
    "import matplotlib\n",
    "import matplotlib.pyplot as plt\n",
    "import matplotlib.gridspec as gridspec\n",
    "import numpy as np\n",
    "\n",
    "print(matplotlib.__version__)\n",
    "print(np.__version__)"
   ]
  },
  {
   "cell_type": "markdown",
   "id": "09c4d2c3",
   "metadata": {},
   "source": [
    "# Simple 2x2 layout dengan subplots"
   ]
  },
  {
   "cell_type": "code",
   "execution_count": 3,
   "id": "88b26e69",
   "metadata": {},
   "outputs": [],
   "source": [
    "siswa = ['Cecep', 'Joko', 'Wati', 'Ani']\n",
    "uas = [68, 83, 96, 72]\n",
    "\n",
    "fig, axes = plt.subplots(ncols=2, nrows=2, constrained_layout=True)\n",
    "\n",
    "axes[0][0].bar(siswa, uas)\n",
    "axes[0][1].pie(uas, labels=siswa)\n",
    "axes[1][0].pie(uas, labels=siswa, explode=[0, 0, 0, 0.2])\n",
    "axes[1][1].barh(siswa, uas)\n",
    "\n",
    "plt.show()"
   ]
  },
  {
   "cell_type": "markdown",
   "id": "4952374d",
   "metadata": {},
   "source": [
    "# Simple 2x2 layout dengan GridSpec"
   ]
  },
  {
   "cell_type": "code",
   "execution_count": 4,
   "id": "29619add",
   "metadata": {},
   "outputs": [],
   "source": [
    "fig = plt.figure(constrained_layout=True)\n",
    "\n",
    "gs = gridspec.GridSpec(ncols=2, nrows=2, figure=fig)\n",
    "\n",
    "ax1 = fig.add_subplot(gs[0, 0])\n",
    "ax2 = fig.add_subplot(gs[0, 1])\n",
    "ax3 = fig.add_subplot(gs[1, 0])\n",
    "ax4 = fig.add_subplot(gs[1, 1])\n",
    "\n",
    "ax1.bar(siswa, uas)\n",
    "ax2.pie(uas, labels=siswa)\n",
    "ax3.pie(uas, labels=siswa, explode=[0, 0, 0, 0.2])\n",
    "ax4.barh(siswa, uas)\n",
    "\n",
    "plt.show()"
   ]
  },
  {
   "cell_type": "markdown",
   "id": "71a322ec",
   "metadata": {},
   "source": [
    "# Rows Span dan Cols Span dengan GridSpec"
   ]
  },
  {
   "cell_type": "code",
   "execution_count": 5,
   "id": "30777b50",
   "metadata": {},
   "outputs": [],
   "source": [
    "fig = plt.figure(constrained_layout=True)\n",
    "\n",
    "gs = fig.add_gridspec(ncols=2, nrows=2)\n",
    "\n",
    "ax1 = fig.add_subplot(gs[0, :])\n",
    "# ax2 = fig.add_subplot(gs[0, 1])\n",
    "ax3 = fig.add_subplot(gs[1, 0])\n",
    "ax4 = fig.add_subplot(gs[1, 1])\n",
    "\n",
    "ax1.bar(siswa, uas)\n",
    "# # ax2.pie(uas, labels=siswa)\n",
    "ax3.pie(uas, labels=siswa, explode=[0, 0, 0, 0.2])\n",
    "ax4.barh(siswa, uas)\n",
    "\n",
    "plt.show()"
   ]
  },
  {
   "cell_type": "code",
   "execution_count": 6,
   "id": "4b393fb0",
   "metadata": {},
   "outputs": [],
   "source": [
    "fig = plt.figure(constrained_layout=True)\n",
    "gs = fig.add_gridspec(ncols=3, nrows=3)\n",
    "\n",
    "ax1 = fig.add_subplot(gs[0, :])\n",
    "ax1.set_title('gs[0, :]')\n",
    "\n",
    "ax2 = fig.add_subplot(gs[1, :-1])\n",
    "ax2.set_title('gs[1, :-1]')\n",
    "ax2.barh(siswa, uas)\n",
    "\n",
    "ax3 = fig.add_subplot(gs[1:, -1])\n",
    "ax3.set_title('gs[1:, -1]')\n",
    "ax3.bar(siswa, uas)\n",
    "\n",
    "ax4 = fig.add_subplot(gs[-1, 0])\n",
    "ax4.set_title('gs[-1, 0]')\n",
    "\n",
    "ax5 = fig.add_subplot(gs[-1, -2])\n",
    "ax5.set_title('gs[-1, -2]')\n",
    "\n",
    "plt.show()"
   ]
  }
 ],
 "metadata": {
  "kernelspec": {
   "display_name": "Python 3 (ipykernel)",
   "language": "python",
   "name": "python3"
  },
  "language_info": {
   "codemirror_mode": {
    "name": "ipython",
    "version": 3
   },
   "file_extension": ".py",
   "mimetype": "text/x-python",
   "name": "python",
   "nbconvert_exporter": "python",
   "pygments_lexer": "ipython3",
   "version": "3.9.7"
  }
 },
 "nbformat": 4,
 "nbformat_minor": 5
}
